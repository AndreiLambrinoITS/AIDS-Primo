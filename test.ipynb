{
 "cells": [
  {
   "cell_type": "code",
   "execution_count": 4,
   "metadata": {},
   "outputs": [],
   "source": [
    "\n",
    "# Importiamo le librerie standard di python che ci serviranno in questo progetto:\n",
    "import random\n",
    "import collections\n",
    "\n",
    "# Le librerie dei framework specifici:\n",
    "import matplotlib.pyplot as plt # Motore grafico di python per realizzare diagrammi e fuznoni\n",
    "import numpy as np # Libreria che gestisce ad altissima efficienza gli array\n",
    "import seaborn as sns # Libreria che usa il motore grafico di MatplotLib con funzionalita' grafiche avanzate"
   ]
  },
  {
   "cell_type": "code",
   "execution_count": 23,
   "metadata": {},
   "outputs": [],
   "source": [
    "#CREARE LA BOARD E POSIZIONARE IL CAVALLO\n",
    "def initialize_game(horse_default_position=True):\n",
    "    #CREARE BOARD\n",
    "    board = np.zeros((8,8))\n",
    "    #POSIZIONIAMO IL CAVALLO NELLA SUA POSIZIONE INIZIALE\n",
    "    position = [(0,1), (0,6), (7,1), (7,6)]\n",
    "    start_position = random.choice(position)\n",
    "    board[start_position] = 1\n",
    "    return board\n",
    "\n",
    "my_board= initialize_game()\n",
    "\n",
    "def get_horse_current_position(board):\n",
    "    current_move_number = board.max()\n",
    "    current_h, current_v = np.unravel_index(my_board.argmax(), (8,8))\n",
    "    return current_move_number, (current_h, current_v)\n",
    "\n",
    "# Scriviamo una funzione che legge una board e restituisce una lista delle possibili mosse disponibili\n",
    "def get_available_moves(board):\n",
    "    possible_movements = [(2,1),\n",
    "                          (2,-1),\n",
    "                          (-2,1),\n",
    "                          (-2,-1),\n",
    "                          (1,2),\n",
    "                          (1,-2),\n",
    "                          (-1,2),\n",
    "                          (-1,-2)]\n",
    "    _, current_horse_position = get_horse_current_position(board)\n",
    "    h_pos, v_pos = current_horse_position\n",
    "    available_moves = []\n",
    "\n",
    "    for move in possible_movements:\n",
    "        h_move, v_move = move\n",
    "        new_h_pos = h_pos + h_move\n",
    "        new_v_pos = v_pos + v_move\n",
    "        if 0<= new_h_pos<=7:\n",
    "            if 0<= new_v_pos<=7:\n",
    "                if board[(new_h_pos,new_v_pos)] == 0:\n",
    "                    available_moves.append((new_h_pos, new_v_pos))\n",
    "    return available_moves\n",
    "\n",
    "available_moves= get_available_moves(my_board)\n",
    "\n",
    "# Scriviamo una funzione che date le mosse a disposizione, ne sceglie casualmente una e la restituisce\n",
    "def random_move(available_moves):\n",
    "    return random.choice(available_moves)\n",
    "\n",
    "\n",
    "# Scriviamo una funzione che legge una board e fa fare al cavallo una mossa scegliendo tra le disponibili casualmente\n",
    "\n",
    "def move_horse(board):\n",
    "    current_move, _ = get_horse_current_position(board)\n",
    "    next_move_count = current_move + 1\n",
    "    available_moves = get_available_moves(board)\n",
    "    if len(available_moves) == 0:\n",
    "        return \"Game Over\"\n",
    "    next_move = random_move(available_moves)\n",
    "    board[next_move] = next_move_count\n",
    "\n",
    "    return board\n",
    "\n",
    "# Scriviamo una funzione che gioca una partita completa sino a che il cavallo non puo' piu' muoversi\n",
    "# A fine partita, se il parametro \"verbose\" e' impostato su true, stampa a video la board.\n",
    "# Restituisce la board\n",
    "def play_one_game(verbose = False, horse_default_start_position = True):\n",
    "    \n",
    "    # return board\n",
    "    pass\n",
    "\n",
    "# Scriviamo una funzione che gioca n partite e restituisce un po' di statistiche:\n",
    "# - Numero partite vinte o miglior partita,\n",
    "# - Board completate o miglior Board\n",
    "# - Punteggio raggiunto in media e mediana,\n",
    "# - Frequenza di occupazione di alcune caselle nella board\n",
    "# - vvee\n",
    "def play_multiple_games(n= 10, verbose = False, horse_default_start_position = True):\n",
    "\n",
    "    # return statistics\n",
    "    pass\n",
    "\n",
    "\n",
    "\n",
    "\n",
    "\n",
    "\n",
    "\n"
   ]
  },
  {
   "cell_type": "code",
   "execution_count": 21,
   "metadata": {},
   "outputs": [
    {
     "data": {
      "text/plain": [
       "(0, 1)"
      ]
     },
     "execution_count": 21,
     "metadata": {},
     "output_type": "execute_result"
    }
   ],
   "source": []
  },
  {
   "cell_type": "code",
   "execution_count": null,
   "metadata": {},
   "outputs": [],
   "source": []
  }
 ],
 "metadata": {
  "kernelspec": {
   "display_name": "Ambiente1",
   "language": "python",
   "name": "python3"
  },
  "language_info": {
   "codemirror_mode": {
    "name": "ipython",
    "version": 3
   },
   "file_extension": ".py",
   "mimetype": "text/x-python",
   "name": "python",
   "nbconvert_exporter": "python",
   "pygments_lexer": "ipython3",
   "version": "3.10.13"
  }
 },
 "nbformat": 4,
 "nbformat_minor": 2
}
